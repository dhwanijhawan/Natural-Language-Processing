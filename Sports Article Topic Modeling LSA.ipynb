{
 "cells": [
  {
   "cell_type": "code",
   "execution_count": 60,
   "metadata": {},
   "outputs": [],
   "source": [
    "import pandas as pd\n",
    "import numpy as np\n",
    "import nltk\n",
    "import spacy\n",
    "import re\n",
    "import os\n",
    "import matplotlib.pyplot as plt\n",
    "import seaborn as sns\n",
    "\n",
    "file = open(\"C:/Users/dhwan/OneDrive/Documents/Analytics_Vidya/bbcsports/bbc_sports_articles/003.txt\", mode = \"rt\", encoding = \"utf-8\")\n",
    "text = file.read()\n",
    "file.close()"
   ]
  },
  {
   "cell_type": "code",
   "execution_count": 43,
   "metadata": {},
   "outputs": [
    {
     "data": {
      "text/plain": [
       "'Greene sets sights on world title\\n\\nMaurice Greene aims to wipe out the pain of losing his Olympic 100m title in Athens by winning a fourth World Championship crown this summer.\\n\\nHe had to settle for bronze in Greece behind fellow American Justin Gatlin and Francis Obikwelu of Portugal. \"It really hurts to look at that medal. It was my mistake. I lost because of the things I did,\" said Greene, who races in Birmingham on Friday. \"It\\'s never going to happen again. My goal - I\\'m going to win the worlds.\" Greene crossed the line just 0.02 seconds behind Gatlin, who won in 9.87 seconds in one of the closest and fastest sprints of all time. But Greene believes he lost the race and his title in the semi-finals. \"In my semi-final race, I should have won the race but I was conserving energy. \"That\\'s when Francis Obikwelu came up and I took third because I didn\\'t know he was there. \"I believe that\\'s what put me in lane seven in the final and, while I was in lane seven, I couldn\\'t feel anything in the race.\\n\\n\"I just felt like I was running all alone. \"I believe if I was in the middle of the race I would have been able to react to people that came ahead of me.\" Greene was also denied Olympic gold in the 4x100m men\\'s relay when he could not catch Britain\\'s Mark Lewis-Francis on the final leg. The Kansas star is set to go head-to-head with Lewis-Francis again at Friday\\'s Norwich Union Grand Prix. The pair contest the 60m, the distance over which Greene currently holds the world record of 6.39 seconds. He then has another indoor meeting in France before resuming training for the outdoor season and the task of recapturing his world title in Helsinki in August. Greene believes Gatlin will again prove the biggest threat to his ambitions in Finland. But he also admits he faces more than one rival for the world crown. \"There\\'s always someone else coming. I think when I was coming up I would say there was me and Ato (Boldon) in the young crowd,\" Greene said. \"Now you\\'ve got about five or six young guys coming up at the same time.\"\\n'"
      ]
     },
     "execution_count": 43,
     "metadata": {},
     "output_type": "execute_result"
    }
   ],
   "source": [
    "text"
   ]
  },
  {
   "cell_type": "code",
   "execution_count": 44,
   "metadata": {},
   "outputs": [
    {
     "data": {
      "text/plain": [
       "['001.txt',\n",
       " '002.txt',\n",
       " '003.txt',\n",
       " '004.txt',\n",
       " '005.txt',\n",
       " '006.txt',\n",
       " '007.txt',\n",
       " '008.txt',\n",
       " '009.txt',\n",
       " '010.txt']"
      ]
     },
     "execution_count": 44,
     "metadata": {},
     "output_type": "execute_result"
    }
   ],
   "source": [
    "filenames = os.listdir(\"C:/Users/dhwan/OneDrive/Documents/Analytics_Vidya/bbcsports/bbc_sports_articles\")\n",
    "len(filenames)\n",
    "filenames[:10]"
   ]
  },
  {
   "cell_type": "code",
   "execution_count": 45,
   "metadata": {},
   "outputs": [],
   "source": [
    "#to read multiple files at a time\n",
    "articles = []\n",
    "for f in filenames:\n",
    "    file = open(\"C:/Users/dhwan/OneDrive/Documents/Analytics_Vidya/bbcsports/bbc_sports_articles/\" +f, mode = \"rt\", encoding = \"utf-8\")\n",
    "    file.close()\n",
    "    articles.append(text)\n"
   ]
  },
  {
   "cell_type": "code",
   "execution_count": 46,
   "metadata": {},
   "outputs": [
    {
     "data": {
      "text/plain": [
       "471"
      ]
     },
     "execution_count": 46,
     "metadata": {},
     "output_type": "execute_result"
    }
   ],
   "source": [
    "len(articles)"
   ]
  },
  {
   "cell_type": "code",
   "execution_count": 47,
   "metadata": {},
   "outputs": [],
   "source": [
    "# text cleaning \n",
    "clean_articles = []\n",
    "for i in articles:\n",
    "    clean_articles.append(i.replace(\"\\n\",\" \").replace(\"\\'\",\" \"\"'\"))\n"
   ]
  },
  {
   "cell_type": "code",
   "execution_count": 48,
   "metadata": {},
   "outputs": [],
   "source": [
    "# remove numbers, punctuation, special character\n",
    "clean_articles = [re.sub(\"[^a-zA-Z]\",\" \",x) for x in clean_articles]"
   ]
  },
  {
   "cell_type": "code",
   "execution_count": 49,
   "metadata": {},
   "outputs": [
    {
     "data": {
      "text/plain": [
       "'Greene sets sights on world title  Maurice Greene aims to wipe out the pain of losing his Olympic    m title in Athens by winning a fourth World Championship crown this summer   He had to settle for bronze in Greece behind fellow American Justin Gatlin and Francis Obikwelu of Portugal   It really hurts to look at that medal  It was my mistake  I lost because of the things I did   said Greene  who races in Birmingham on Friday   It  s never going to happen again  My goal   I  m going to win the worlds   Greene crossed the line just      seconds behind Gatlin  who won in      seconds in one of the closest and fastest sprints of all time  But Greene believes he lost the race and his title in the semi finals   In my semi final race  I should have won the race but I was conserving energy   That  s when Francis Obikwelu came up and I took third because I didn  t know he was there   I believe that  s what put me in lane seven in the final and  while I was in lane seven  I couldn  t feel anything in the race    I just felt like I was running all alone   I believe if I was in the middle of the race I would have been able to react to people that came ahead of me   Greene was also denied Olympic gold in the  x   m men  s relay when he could not catch Britain  s Mark Lewis Francis on the final leg  The Kansas star is set to go head to head with Lewis Francis again at Friday  s Norwich Union Grand Prix  The pair contest the   m  the distance over which Greene currently holds the world record of      seconds  He then has another indoor meeting in France before resuming training for the outdoor season and the task of recapturing his world title in Helsinki in August  Greene believes Gatlin will again prove the biggest threat to his ambitions in Finland  But he also admits he faces more than one rival for the world crown   There  s always someone else coming  I think when I was coming up I would say there was me and Ato  Boldon  in the young crowd   Greene said   Now you  ve got about five or six young guys coming up at the same time   '"
      ]
     },
     "execution_count": 49,
     "metadata": {},
     "output_type": "execute_result"
    }
   ],
   "source": [
    "clean_articles[54]"
   ]
  },
  {
   "cell_type": "code",
   "execution_count": 50,
   "metadata": {},
   "outputs": [],
   "source": [
    "# remove space\n",
    "clean_articles = [' '.join([w for w in x.split() if len(w) > 1]) for x in clean_articles]"
   ]
  },
  {
   "cell_type": "code",
   "execution_count": 51,
   "metadata": {},
   "outputs": [
    {
     "data": {
      "text/plain": [
       "'Greene sets sights on world title Maurice Greene aims to wipe out the pain of losing his Olympic title in Athens by winning fourth World Championship crown this summer He had to settle for bronze in Greece behind fellow American Justin Gatlin and Francis Obikwelu of Portugal It really hurts to look at that medal It was my mistake lost because of the things did said Greene who races in Birmingham on Friday It never going to happen again My goal going to win the worlds Greene crossed the line just seconds behind Gatlin who won in seconds in one of the closest and fastest sprints of all time But Greene believes he lost the race and his title in the semi finals In my semi final race should have won the race but was conserving energy That when Francis Obikwelu came up and took third because didn know he was there believe that what put me in lane seven in the final and while was in lane seven couldn feel anything in the race just felt like was running all alone believe if was in the middle of the race would have been able to react to people that came ahead of me Greene was also denied Olympic gold in the men relay when he could not catch Britain Mark Lewis Francis on the final leg The Kansas star is set to go head to head with Lewis Francis again at Friday Norwich Union Grand Prix The pair contest the the distance over which Greene currently holds the world record of seconds He then has another indoor meeting in France before resuming training for the outdoor season and the task of recapturing his world title in Helsinki in August Greene believes Gatlin will again prove the biggest threat to his ambitions in Finland But he also admits he faces more than one rival for the world crown There always someone else coming think when was coming up would say there was me and Ato Boldon in the young crowd Greene said Now you ve got about five or six young guys coming up at the same time'"
      ]
     },
     "execution_count": 51,
     "metadata": {},
     "output_type": "execute_result"
    }
   ],
   "source": [
    "clean_articles[54]"
   ]
  },
  {
   "cell_type": "code",
   "execution_count": 52,
   "metadata": {},
   "outputs": [
    {
     "data": {
      "text/plain": [
       "list"
      ]
     },
     "execution_count": 52,
     "metadata": {},
     "output_type": "execute_result"
    }
   ],
   "source": [
    "type(clean_articles)"
   ]
  },
  {
   "cell_type": "code",
   "execution_count": 53,
   "metadata": {},
   "outputs": [],
   "source": [
    "new_articles = [x.lower() for x in clean_articles]"
   ]
  },
  {
   "cell_type": "code",
   "execution_count": 54,
   "metadata": {},
   "outputs": [
    {
     "data": {
      "text/plain": [
       "'greene sets sights on world title maurice greene aims to wipe out the pain of losing his olympic title in athens by winning fourth world championship crown this summer he had to settle for bronze in greece behind fellow american justin gatlin and francis obikwelu of portugal it really hurts to look at that medal it was my mistake lost because of the things did said greene who races in birmingham on friday it never going to happen again my goal going to win the worlds greene crossed the line just seconds behind gatlin who won in seconds in one of the closest and fastest sprints of all time but greene believes he lost the race and his title in the semi finals in my semi final race should have won the race but was conserving energy that when francis obikwelu came up and took third because didn know he was there believe that what put me in lane seven in the final and while was in lane seven couldn feel anything in the race just felt like was running all alone believe if was in the middle of the race would have been able to react to people that came ahead of me greene was also denied olympic gold in the men relay when he could not catch britain mark lewis francis on the final leg the kansas star is set to go head to head with lewis francis again at friday norwich union grand prix the pair contest the the distance over which greene currently holds the world record of seconds he then has another indoor meeting in france before resuming training for the outdoor season and the task of recapturing his world title in helsinki in august greene believes gatlin will again prove the biggest threat to his ambitions in finland but he also admits he faces more than one rival for the world crown there always someone else coming think when was coming up would say there was me and ato boldon in the young crowd greene said now you ve got about five or six young guys coming up at the same time'"
      ]
     },
     "execution_count": 54,
     "metadata": {},
     "output_type": "execute_result"
    }
   ],
   "source": [
    "new_articles[54]"
   ]
  },
  {
   "cell_type": "code",
   "execution_count": 55,
   "metadata": {},
   "outputs": [],
   "source": [
    "#frequency of top 30 words \n",
    "def freq_words(x, terms=30):\n",
    "    #combine all the articles\n",
    "    text = ' '.join([text for text in x])\n",
    "    #split text into words\n",
    "    words = text.split()\n",
    "    #prepare a dictionary of word frequency pairs\n",
    "    words_dict = nltk.FreqDist(words)\n",
    "    words_df = pd.DataFrame({'word':list(words_dict.keys()), 'count' :list(words_dict.values())})\n",
    "    #select top n most frequent words\n",
    "    d = words_df.nlargest(columns = 'count', n = terms)\n",
    "    #plot the word counts\n",
    "    plt.figure(figsize = (20,5))\n",
    "    ax = sns.barplot(data = d, x = 'word', y = 'count')\n",
    "    ax.set(ylabel = 'Count')\n",
    "    plt.show()\n",
    "    \n",
    "    "
   ]
  },
  {
   "cell_type": "code",
   "execution_count": 69,
   "metadata": {},
   "outputs": [
    {
     "data": {
      "image/png": "[encoded data removed]",
      "text/plain": [
       "<Figure size 1440x360 with 1 Axes>"
      ]
     },
     "metadata": {
      "needs_background": "light"
     },
     "output_type": "display_data"
    }
   ],
   "source": [
    "freq_words(new_articles)"
   ]
  },
  {
   "cell_type": "code",
   "execution_count": 70,
   "metadata": {},
   "outputs": [],
   "source": [
    "#remove stop words (normalize- convert to root form- the text first)\n",
    "nlp = spacy.load('en_core_web_sm')\n"
   ]
  },
  {
   "cell_type": "code",
   "execution_count": 71,
   "metadata": {},
   "outputs": [],
   "source": [
    "#lemmatization \n",
    "new_articles = [' '.join([token.lemma_ for token in nlp(x)]) for x in new_articles]\n",
    "#remove stopwords\n",
    "new_articles = [' '.join([w for w in x.split() if nlp.vocab[w].is_stop == False]) for x in new_articles]"
   ]
  },
  {
   "cell_type": "code",
   "execution_count": null,
   "metadata": {},
   "outputs": [],
   "source": []
  },
  {
   "cell_type": "code",
   "execution_count": 73,
   "metadata": {},
   "outputs": [
    {
     "data": {
      "image/png": "[encoded data removed]",
      "text/plain": [
       "<Figure size 1440x360 with 1 Axes>"
      ]
     },
     "metadata": {
      "needs_background": "light"
     },
     "output_type": "display_data"
    }
   ],
   "source": [
    "freq_words(new_articles)"
   ]
  },
  {
   "cell_type": "code",
   "execution_count": 74,
   "metadata": {},
   "outputs": [],
   "source": [
    "#remove PRON, using the spacy library the pronouns are by default replaced by PRON\n",
    "new_articles = [re.sub('-PRON-', '',i) for i in new_articles]"
   ]
  },
  {
   "cell_type": "code",
   "execution_count": 75,
   "metadata": {},
   "outputs": [
    {
     "data": {
      "image/png": "[encoded data removed]",
      "text/plain": [
       "<Figure size 1440x360 with 1 Axes>"
      ]
     },
     "metadata": {
      "needs_background": "light"
     },
     "output_type": "display_data"
    }
   ],
   "source": [
    "freq_words(new_articles)"
   ]
  },
  {
   "cell_type": "markdown",
   "metadata": {},
   "source": [
    "##### LSA and NMF \n",
    "Main idea behind Latent Semantic Analysis is to group the words together having same occurance patterns in the entire data.- generally co-occur together.\n",
    "LSA works in two steps: \n",
    "1. Represent the corpus as Document Term Matrix\n",
    "2. Decompose the document into Document topic and topic term matrix using SVD (singular value decomposition)\n",
    "SVD Singular Value Decomposition \n",
    "\n"
   ]
  },
  {
   "cell_type": "code",
   "execution_count": null,
   "metadata": {},
   "outputs": [],
   "source": []
  }
 ],
 "metadata": {
  "kernelspec": {
   "display_name": "Python 3",
   "language": "python",
   "name": "python3"
  },
  "language_info": {
   "codemirror_mode": {
    "name": "ipython",
    "version": 3
   },
   "file_extension": ".py",
   "mimetype": "text/x-python",
   "name": "python",
   "nbconvert_exporter": "python",
   "pygments_lexer": "ipython3",
   "version": "3.6.6"
  }
 },
 "nbformat": 4,
 "nbformat_minor": 2
}
