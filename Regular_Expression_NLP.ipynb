{
 "cells": [
  {
   "cell_type": "markdown",
   "metadata": {},
   "source": [
    "#### Regular Expressions in NLP, Python \n",
    "1. match : to find the first occurance of a pattern in the string.\n",
    "2. search : locates the pattern in the string.\n",
    "3. find all : all occurances of patterns in the string.\n",
    "4. sub : used to search and replace.\n",
    "5. split : split the text by given regular expression pattern."
   ]
  },
  {
   "cell_type": "code",
   "execution_count": 1,
   "metadata": {},
   "outputs": [
    {
     "data": {
      "text/plain": [
       "'Tiger'"
      ]
     },
     "execution_count": 1,
     "metadata": {},
     "output_type": "execute_result"
    }
   ],
   "source": [
    "import re\n",
    "string = \"Tiger is the national animal of India\"\n",
    "pattern = \"Tiger\"\n",
    "result = re.match(pattern, string).group(0)\n",
    "result"
   ]
  },
  {
   "cell_type": "code",
   "execution_count": 2,
   "metadata": {},
   "outputs": [],
   "source": [
    "string = \"The national animal of India is Tiger\"\n",
    "pattern = \"Tiger\"\n",
    "result = re.match(pattern, string)\n",
    "result\n",
    "# this wont work as the pattern is not present at the start of the string , hence we use 'SEARCH'"
   ]
  },
  {
   "cell_type": "code",
   "execution_count": 3,
   "metadata": {},
   "outputs": [
    {
     "data": {
      "text/plain": [
       "'Tiger'"
      ]
     },
     "execution_count": 3,
     "metadata": {},
     "output_type": "execute_result"
    }
   ],
   "source": [
    "string = \"The national animal of India is Tiger\"\n",
    "pattern = \"Tiger\"\n",
    "result = re.search(pattern, string).group(0)\n",
    "result"
   ]
  },
  {
   "cell_type": "code",
   "execution_count": 4,
   "metadata": {},
   "outputs": [
    {
     "data": {
      "text/plain": [
       "['national', 'national']"
      ]
     },
     "execution_count": 4,
     "metadata": {},
     "output_type": "execute_result"
    }
   ],
   "source": [
    "string = \"The national animal of India is Tiger, the national bird is Peacock.\"\n",
    "pattern = \"national\"\n",
    "result = re.findall(pattern, string)\n",
    "result"
   ]
  },
  {
   "cell_type": "code",
   "execution_count": 5,
   "metadata": {},
   "outputs": [
    {
     "name": "stdout",
     "output_type": "stream",
     "text": [
      "13\n",
      "37\n",
      "61\n"
     ]
    }
   ],
   "source": [
    "string = \"John 34-3456-12-05-2007, XYZ 56-4532 11-11-2011, ABU 67-7654 12-09-2010\"\n",
    "pattern = r'\\d{2}-\\d{2}-\\d{4}'\n",
    "re.findall(pattern,string)\n",
    "#return the strings \n",
    "ind = re.finditer(pattern, string)\n",
    "for i in ind:\n",
    "    print(i.start())\n",
    "#return the index"
   ]
  },
  {
   "cell_type": "code",
   "execution_count": 6,
   "metadata": {},
   "outputs": [
    {
     "data": {
      "text/plain": [
       "['this',\n",
       " '',\n",
       " 'is',\n",
       " '',\n",
       " 'a',\n",
       " '',\n",
       " 'new',\n",
       " '',\n",
       " 'notebook',\n",
       " '',\n",
       " 'about',\n",
       " '',\n",
       " 'NLP',\n",
       " '',\n",
       " 'regular',\n",
       " '',\n",
       " 'expressions']"
      ]
     },
     "execution_count": 6,
     "metadata": {},
     "output_type": "execute_result"
    }
   ],
   "source": [
    "string = \"this; is, a, new, notebook, about, NLP, regular, expressions\"\n",
    "pattern = r'[;,\\s]'\n",
    "re.split(pattern,string)"
   ]
  },
  {
   "cell_type": "code",
   "execution_count": 7,
   "metadata": {},
   "outputs": [
    {
     "data": {
      "text/plain": [
       "'cricket is a popular sport in world'"
      ]
     },
     "execution_count": 7,
     "metadata": {},
     "output_type": "execute_result"
    }
   ],
   "source": [
    "string = \"cricket is a popular sport in India\"\n",
    "pattern = \"India\"\n",
    "replace = \"world\"\n",
    "re.sub(pattern, replace, string)"
   ]
  },
  {
   "cell_type": "code",
   "execution_count": 8,
   "metadata": {},
   "outputs": [
    {
     "data": {
      "text/html": [
       "<div>\n",
       "<style scoped>\n",
       "    .dataframe tbody tr th:only-of-type {\n",
       "        vertical-align: middle;\n",
       "    }\n",
       "\n",
       "    .dataframe tbody tr th {\n",
       "        vertical-align: top;\n",
       "    }\n",
       "\n",
       "    .dataframe thead th {\n",
       "        text-align: right;\n",
       "    }\n",
       "</style>\n",
       "<table border=\"1\" class=\"dataframe\">\n",
       "  <thead>\n",
       "    <tr style=\"text-align: right;\">\n",
       "      <th></th>\n",
       "      <th>Unnamed: 0</th>\n",
       "      <th>X</th>\n",
       "      <th>text</th>\n",
       "      <th>favorited</th>\n",
       "      <th>favoriteCount</th>\n",
       "      <th>replyToSN</th>\n",
       "      <th>created</th>\n",
       "      <th>truncated</th>\n",
       "      <th>replyToSID</th>\n",
       "      <th>id</th>\n",
       "      <th>replyToUID</th>\n",
       "      <th>statusSource</th>\n",
       "      <th>screenName</th>\n",
       "      <th>retweetCount</th>\n",
       "      <th>isRetweet</th>\n",
       "      <th>retweeted</th>\n",
       "    </tr>\n",
       "  </thead>\n",
       "  <tbody>\n",
       "    <tr>\n",
       "      <th>0</th>\n",
       "      <td>1</td>\n",
       "      <td>1</td>\n",
       "      <td>RT @rssurjewala: Critical question: Was PayTM ...</td>\n",
       "      <td>False</td>\n",
       "      <td>0</td>\n",
       "      <td>NaN</td>\n",
       "      <td>2016-11-23 18:40:30</td>\n",
       "      <td>False</td>\n",
       "      <td>NaN</td>\n",
       "      <td>8.014957e+17</td>\n",
       "      <td>NaN</td>\n",
       "      <td>&lt;a href=\"http://twitter.com/download/android\" ...</td>\n",
       "      <td>HASHTAGFARZIWAL</td>\n",
       "      <td>331</td>\n",
       "      <td>True</td>\n",
       "      <td>False</td>\n",
       "    </tr>\n",
       "    <tr>\n",
       "      <th>1</th>\n",
       "      <td>2</td>\n",
       "      <td>2</td>\n",
       "      <td>RT @Hemant_80: Did you vote on #Demonetization...</td>\n",
       "      <td>False</td>\n",
       "      <td>0</td>\n",
       "      <td>NaN</td>\n",
       "      <td>2016-11-23 18:40:29</td>\n",
       "      <td>False</td>\n",
       "      <td>NaN</td>\n",
       "      <td>8.014957e+17</td>\n",
       "      <td>NaN</td>\n",
       "      <td>&lt;a href=\"http://twitter.com/download/android\" ...</td>\n",
       "      <td>PRAMODKAUSHIK9</td>\n",
       "      <td>66</td>\n",
       "      <td>True</td>\n",
       "      <td>False</td>\n",
       "    </tr>\n",
       "    <tr>\n",
       "      <th>2</th>\n",
       "      <td>3</td>\n",
       "      <td>3</td>\n",
       "      <td>RT @roshankar: Former FinSec, RBI Dy Governor,...</td>\n",
       "      <td>False</td>\n",
       "      <td>0</td>\n",
       "      <td>NaN</td>\n",
       "      <td>2016-11-23 18:40:03</td>\n",
       "      <td>False</td>\n",
       "      <td>NaN</td>\n",
       "      <td>8.014955e+17</td>\n",
       "      <td>NaN</td>\n",
       "      <td>&lt;a href=\"http://twitter.com/download/android\" ...</td>\n",
       "      <td>rahulja13034944</td>\n",
       "      <td>12</td>\n",
       "      <td>True</td>\n",
       "      <td>False</td>\n",
       "    </tr>\n",
       "    <tr>\n",
       "      <th>3</th>\n",
       "      <td>4</td>\n",
       "      <td>4</td>\n",
       "      <td>RT @ANI_news: Gurugram (Haryana): Post office ...</td>\n",
       "      <td>False</td>\n",
       "      <td>0</td>\n",
       "      <td>NaN</td>\n",
       "      <td>2016-11-23 18:39:59</td>\n",
       "      <td>False</td>\n",
       "      <td>NaN</td>\n",
       "      <td>8.014955e+17</td>\n",
       "      <td>NaN</td>\n",
       "      <td>&lt;a href=\"http://twitter.com/download/android\" ...</td>\n",
       "      <td>deeptiyvd</td>\n",
       "      <td>338</td>\n",
       "      <td>True</td>\n",
       "      <td>False</td>\n",
       "    </tr>\n",
       "    <tr>\n",
       "      <th>4</th>\n",
       "      <td>5</td>\n",
       "      <td>5</td>\n",
       "      <td>RT @satishacharya: Reddy Wedding! @mail_today ...</td>\n",
       "      <td>False</td>\n",
       "      <td>0</td>\n",
       "      <td>NaN</td>\n",
       "      <td>2016-11-23 18:39:39</td>\n",
       "      <td>False</td>\n",
       "      <td>NaN</td>\n",
       "      <td>8.014954e+17</td>\n",
       "      <td>NaN</td>\n",
       "      <td>&lt;a href=\"http://cpimharyana.com\" rel=\"nofollow...</td>\n",
       "      <td>CPIMBadli</td>\n",
       "      <td>120</td>\n",
       "      <td>True</td>\n",
       "      <td>False</td>\n",
       "    </tr>\n",
       "    <tr>\n",
       "      <th>5</th>\n",
       "      <td>6</td>\n",
       "      <td>6</td>\n",
       "      <td>@DerekScissors1: Indias #demonetization: #Bla...</td>\n",
       "      <td>False</td>\n",
       "      <td>0</td>\n",
       "      <td>DerekScissors1</td>\n",
       "      <td>2016-11-23 18:39:11</td>\n",
       "      <td>False</td>\n",
       "      <td>NaN</td>\n",
       "      <td>8.014953e+17</td>\n",
       "      <td>2.586266e+09</td>\n",
       "      <td>&lt;a href=\"http://twitter.com\" rel=\"nofollow\"&gt;Tw...</td>\n",
       "      <td>ambazaarmag</td>\n",
       "      <td>0</td>\n",
       "      <td>False</td>\n",
       "      <td>False</td>\n",
       "    </tr>\n",
       "    <tr>\n",
       "      <th>6</th>\n",
       "      <td>7</td>\n",
       "      <td>7</td>\n",
       "      <td>RT @gauravcsawant: Rs 40 lakh looted from a ba...</td>\n",
       "      <td>False</td>\n",
       "      <td>0</td>\n",
       "      <td>NaN</td>\n",
       "      <td>2016-11-23 18:38:53</td>\n",
       "      <td>False</td>\n",
       "      <td>NaN</td>\n",
       "      <td>8.014952e+17</td>\n",
       "      <td>NaN</td>\n",
       "      <td>&lt;a href=\"http://twitter.com/download/android\" ...</td>\n",
       "      <td>bhodia1</td>\n",
       "      <td>637</td>\n",
       "      <td>True</td>\n",
       "      <td>False</td>\n",
       "    </tr>\n",
       "    <tr>\n",
       "      <th>7</th>\n",
       "      <td>8</td>\n",
       "      <td>8</td>\n",
       "      <td>RT @Joydeep_911: Calling all Nationalists to j...</td>\n",
       "      <td>False</td>\n",
       "      <td>0</td>\n",
       "      <td>NaN</td>\n",
       "      <td>2016-11-23 18:38:20</td>\n",
       "      <td>False</td>\n",
       "      <td>NaN</td>\n",
       "      <td>8.014951e+17</td>\n",
       "      <td>NaN</td>\n",
       "      <td>&lt;a href=\"http://twitter.com/download/android\" ...</td>\n",
       "      <td>KARUNASHANKEROJ</td>\n",
       "      <td>112</td>\n",
       "      <td>True</td>\n",
       "      <td>False</td>\n",
       "    </tr>\n",
       "    <tr>\n",
       "      <th>8</th>\n",
       "      <td>9</td>\n",
       "      <td>9</td>\n",
       "      <td>RT @sumitbhati2002: Many opposition leaders ar...</td>\n",
       "      <td>False</td>\n",
       "      <td>0</td>\n",
       "      <td>NaN</td>\n",
       "      <td>2016-11-23 18:38:09</td>\n",
       "      <td>False</td>\n",
       "      <td>NaN</td>\n",
       "      <td>8.014951e+17</td>\n",
       "      <td>NaN</td>\n",
       "      <td>&lt;a href=\"http://twitter.com/download/android\" ...</td>\n",
       "      <td>sumitbhati2002</td>\n",
       "      <td>1</td>\n",
       "      <td>True</td>\n",
       "      <td>False</td>\n",
       "    </tr>\n",
       "    <tr>\n",
       "      <th>9</th>\n",
       "      <td>10</td>\n",
       "      <td>10</td>\n",
       "      <td>National reform now destroyed even the essence...</td>\n",
       "      <td>False</td>\n",
       "      <td>0</td>\n",
       "      <td>NaN</td>\n",
       "      <td>2016-11-23 18:38:00</td>\n",
       "      <td>True</td>\n",
       "      <td>NaN</td>\n",
       "      <td>8.014950e+17</td>\n",
       "      <td>NaN</td>\n",
       "      <td>&lt;a href=\"https://mobile.twitter.com\" rel=\"nofo...</td>\n",
       "      <td>HelpIndia2016</td>\n",
       "      <td>0</td>\n",
       "      <td>False</td>\n",
       "      <td>False</td>\n",
       "    </tr>\n",
       "  </tbody>\n",
       "</table>\n",
       "</div>"
      ],
      "text/plain": [
       "   Unnamed: 0   X                                               text  \\\n",
       "0           1   1  RT @rssurjewala: Critical question: Was PayTM ...   \n",
       "1           2   2  RT @Hemant_80: Did you vote on #Demonetization...   \n",
       "2           3   3  RT @roshankar: Former FinSec, RBI Dy Governor,...   \n",
       "3           4   4  RT @ANI_news: Gurugram (Haryana): Post office ...   \n",
       "4           5   5  RT @satishacharya: Reddy Wedding! @mail_today ...   \n",
       "5           6   6  @DerekScissors1: Indias #demonetization: #Bla...   \n",
       "6           7   7  RT @gauravcsawant: Rs 40 lakh looted from a ba...   \n",
       "7           8   8  RT @Joydeep_911: Calling all Nationalists to j...   \n",
       "8           9   9  RT @sumitbhati2002: Many opposition leaders ar...   \n",
       "9          10  10  National reform now destroyed even the essence...   \n",
       "\n",
       "   favorited  favoriteCount       replyToSN              created  truncated  \\\n",
       "0      False              0             NaN  2016-11-23 18:40:30      False   \n",
       "1      False              0             NaN  2016-11-23 18:40:29      False   \n",
       "2      False              0             NaN  2016-11-23 18:40:03      False   \n",
       "3      False              0             NaN  2016-11-23 18:39:59      False   \n",
       "4      False              0             NaN  2016-11-23 18:39:39      False   \n",
       "5      False              0  DerekScissors1  2016-11-23 18:39:11      False   \n",
       "6      False              0             NaN  2016-11-23 18:38:53      False   \n",
       "7      False              0             NaN  2016-11-23 18:38:20      False   \n",
       "8      False              0             NaN  2016-11-23 18:38:09      False   \n",
       "9      False              0             NaN  2016-11-23 18:38:00       True   \n",
       "\n",
       "   replyToSID            id    replyToUID  \\\n",
       "0         NaN  8.014957e+17           NaN   \n",
       "1         NaN  8.014957e+17           NaN   \n",
       "2         NaN  8.014955e+17           NaN   \n",
       "3         NaN  8.014955e+17           NaN   \n",
       "4         NaN  8.014954e+17           NaN   \n",
       "5         NaN  8.014953e+17  2.586266e+09   \n",
       "6         NaN  8.014952e+17           NaN   \n",
       "7         NaN  8.014951e+17           NaN   \n",
       "8         NaN  8.014951e+17           NaN   \n",
       "9         NaN  8.014950e+17           NaN   \n",
       "\n",
       "                                        statusSource       screenName  \\\n",
       "0  <a href=\"http://twitter.com/download/android\" ...  HASHTAGFARZIWAL   \n",
       "1  <a href=\"http://twitter.com/download/android\" ...   PRAMODKAUSHIK9   \n",
       "2  <a href=\"http://twitter.com/download/android\" ...  rahulja13034944   \n",
       "3  <a href=\"http://twitter.com/download/android\" ...        deeptiyvd   \n",
       "4  <a href=\"http://cpimharyana.com\" rel=\"nofollow...        CPIMBadli   \n",
       "5  <a href=\"http://twitter.com\" rel=\"nofollow\">Tw...      ambazaarmag   \n",
       "6  <a href=\"http://twitter.com/download/android\" ...          bhodia1   \n",
       "7  <a href=\"http://twitter.com/download/android\" ...  KARUNASHANKEROJ   \n",
       "8  <a href=\"http://twitter.com/download/android\" ...   sumitbhati2002   \n",
       "9  <a href=\"https://mobile.twitter.com\" rel=\"nofo...    HelpIndia2016   \n",
       "\n",
       "   retweetCount  isRetweet  retweeted  \n",
       "0           331       True      False  \n",
       "1            66       True      False  \n",
       "2            12       True      False  \n",
       "3           338       True      False  \n",
       "4           120       True      False  \n",
       "5             0      False      False  \n",
       "6           637       True      False  \n",
       "7           112       True      False  \n",
       "8             1       True      False  \n",
       "9             0      False      False  "
      ]
     },
     "execution_count": 8,
     "metadata": {},
     "output_type": "execute_result"
    }
   ],
   "source": [
    "#### Practice regular expressions in tweets dataset\n",
    "import pandas as pd\n",
    "dataset = pd.read_csv('C:/Users/dhwan/OneDrive/Documents/Analytics_Vidya/Regular Expressions in Action/tweets.csv', encoding = \"ISO-8859-1\")\n",
    "dataset.head(10)"
   ]
  },
  {
   "cell_type": "code",
   "execution_count": 9,
   "metadata": {},
   "outputs": [
    {
     "name": "stdout",
     "output_type": "stream",
     "text": [
      "1 . Many opposition leaders are with @narendramodi on the #Demonetization \r\n",
      "And respect their decision,but support opposition just b'coz of party\n",
      "2 . RT @Joydas: Question in Narendra Modi App where PM is taking feedback if people support his #DeMonetization strategy https://t.co/pYgK8Rmg7r\n",
      "3 . @Jaggesh2 Bharat band on 28??<ed><U+00A0><U+00BD><ed><U+00B8><U+0082>Those who  are protesting #demonetization  are all different party leaders.\n",
      "4 . RT @Atheist_Krishna: The effect of #Demonetization !!\r\n",
      ". https://t.co/A8of7zh2f5\n",
      "5 . RT @sona2905: When I explained #Demonetization to myself and tried to put it down in my words which are not laced with any heavy technical",
      "\n"
     ]
    }
   ],
   "source": [
    "for index,tweet in enumerate(dataset[\"text\"][10:15]):\n",
    "    print(index+1, \".\", tweet)"
   ]
  },
  {
   "cell_type": "code",
   "execution_count": 10,
   "metadata": {},
   "outputs": [
    {
     "name": "stdout",
     "output_type": "stream",
     "text": [
      "Before:  RT @Joydas: Question in Narendra Modi App where PM is taking feedback if people support his #DeMonetization strategy https://t.co/pYgK8Rmg7r\n",
      "After:   @Joydas: Question in Narendra Modi App where PM is taking feedback if people support his #DeMonetization strategy https://t.co/pYgK8Rmg7r\n"
     ]
    }
   ],
   "source": [
    "#removing RT from teh text \n",
    "import re \n",
    "text = \"RT @Joydas: Question in Narendra Modi App where PM is taking feedback if people support his #DeMonetization strategy https://t.co/pYgK8Rmg7r\"\n",
    "clean_text = re.sub(r\"RT\",\"\",text)\n",
    "print(\"Before: \",text)\n",
    "print(\"After: \",clean_text)"
   ]
  },
  {
   "cell_type": "code",
   "execution_count": 12,
   "metadata": {},
   "outputs": [
    {
     "name": "stdout",
     "output_type": "stream",
     "text": [
      "Before: @Jaggesh2 Bharat band on 28??<ed><U+00A0><U+00BD><ed><U+00B8><U+0082>Those who  are protesting #demonetization  are all different party leaders.\n",
      "After: @Jaggesh2 Bharat band on 28??<ed><ed>Those who  are protesting #demonetization  are all different party leaders.\n"
     ]
    }
   ],
   "source": [
    "#removing UT+ kind of expression from the text \n",
    "text = \"@Jaggesh2 Bharat band on 28??<ed><U+00A0><U+00BD><ed><U+00B8><U+0082>Those who  are protesting #demonetization  are all different party leaders.\"\n",
    "clean_text = re.sub(r\"<U\\+[A-Z0-9]+>\", \"\", text)\n",
    "print(\"Before:\",text)\n",
    "print(\"After:\", clean_text)"
   ]
  },
  {
   "cell_type": "code",
   "execution_count": 13,
   "metadata": {},
   "outputs": [
    {
     "name": "stdout",
     "output_type": "stream",
     "text": [
      "Before: @Jaggesh2 Bharat band on 28??<ed><U+00A0><U+00BD><ed><U+00B8><U+0082>Those who  are protesting #demonetization  are all different party leaders.\n",
      "After: @Jaggesh2 Bharat band on 28??<U+00A0><U+00BD><U+00B8><U+0082>Those who  are protesting #demonetization  are all different party leaders.\n"
     ]
    }
   ],
   "source": [
    "#similarly removing <ed>\n",
    "text = \"@Jaggesh2 Bharat band on 28??<ed><U+00A0><U+00BD><ed><U+00B8><U+0082>Those who  are protesting #demonetization  are all different party leaders.\"\n",
    "clean_text = re.sub(r\"<ed+>\", \"\", text)\n",
    "print(\"Before:\",text)\n",
    "print(\"After:\", clean_text)"
   ]
  },
  {
   "cell_type": "code",
   "execution_count": 16,
   "metadata": {},
   "outputs": [
    {
     "name": "stdout",
     "output_type": "stream",
     "text": [
      "Before: @Jaggesh2 Bharat band on 28?? &amp <ed><U+00A0><U+00BD><ed><U+00B8><U+0082>Those who  are protesting #demonetization  are all different party leaders.\n",
      "After: @Jaggesh2 Bharat band on 28?? & <ed><U+00A0><U+00BD><ed><U+00B8><U+0082>Those who  are protesting #demonetization  are all different party leaders.\n"
     ]
    }
   ],
   "source": [
    "text = \"@Jaggesh2 Bharat band on 28?? &amp <ed><U+00A0><U+00BD><ed><U+00B8><U+0082>Those who  are protesting #demonetization  are all different party leaders.\"\n",
    "clean_text = re.sub(r\"&amp\", \"&\", text)\n",
    "print(\"Before:\",text)\n",
    "print(\"After:\", clean_text)"
   ]
  },
  {
   "cell_type": "code",
   "execution_count": 19,
   "metadata": {},
   "outputs": [
    {
     "data": {
      "text/plain": [
       "<a href=\"http://twitter.com/download/android\" rel=\"nofollow\">Twitter for Android</a>    7642\n",
       "<a href=\"http://twitter.com\" rel=\"nofollow\">Twitter Web Client</a>                      2548\n",
       "<a href=\"http://twitter.com/download/iphone\" rel=\"nofollow\">Twitter for iPhone</a>      2093\n",
       "<a href=\"https://about.twitter.com/products/tweetdeck\" rel=\"nofollow\">TweetDeck</a>      492\n",
       "<a href=\"https://mobile.twitter.com\" rel=\"nofollow\">Twitter Lite</a>                     263\n",
       "<a href=\"https://mobile.twitter.com\" rel=\"nofollow\">Mobile Web (M5)</a>                  178\n",
       "<a href=\"http://www.facebook.com/twitter\" rel=\"nofollow\">Facebook</a>                    167\n",
       "<a href=\"http://twitter.com/#!/download/ipad\" rel=\"nofollow\">Twitter for iPad</a>        165\n",
       "<a href=\"http://www.twitter.com\" rel=\"nofollow\">Twitter for Windows Phone</a>            139\n",
       "<a href=\"http://onlywire.com/\" rel=\"nofollow\">OnlyWire / Official App</a>                136\n",
       "<a href=\"http://www.twitter.com\" rel=\"nofollow\">Twitter for Windows</a>                  110\n",
       "<a href=\"https://mobile.twitter.com\" rel=\"nofollow\">Mobile Web (M2)</a>                  105\n",
       "<a href=\"http://www.google.com/\" rel=\"nofollow\">Google</a>                               101\n",
       "Name: statusSource, dtype: int64"
      ]
     },
     "execution_count": 19,
     "metadata": {},
     "output_type": "execute_result"
    }
   ],
   "source": [
    "platform_count = dataset[\"statusSource\"].value_counts()\n",
    "top_platforms = platform_status.loc[platform_count>100]\n",
    "top_platforms\n"
   ]
  },
  {
   "cell_type": "code",
   "execution_count": 25,
   "metadata": {},
   "outputs": [
    {
     "data": {
      "text/plain": [
       "0       android\n",
       "1           Web\n",
       "2        iphone\n",
       "3     tweetdeck\n",
       "4        mobile\n",
       "5        mobile\n",
       "6      facebook\n",
       "7          ipad\n",
       "8       Windows\n",
       "9      onlywire\n",
       "10      Windows\n",
       "11       mobile\n",
       "12       google\n",
       "Name: index, dtype: object"
      ]
     },
     "execution_count": 25,
     "metadata": {},
     "output_type": "execute_result"
    }
   ],
   "source": [
    "def platform_type(x):\n",
    "    ser = re.search(r\"android|iphone|web|windows|mobile|google|facebook|ipad|tweetdeck|onlywire\", x, re.IGNORECASE)\n",
    "    if ser:\n",
    "        return ser.group()\n",
    "    else:\n",
    "        return None\n",
    "    \n",
    "top_platforms = top_platforms.reset_index()[\"index\"]\n",
    "top_platforms.apply(lambda x: platform_type(x))\n",
    "\n",
    "\n"
   ]
  },
  {
   "cell_type": "code",
   "execution_count": 26,
   "metadata": {},
   "outputs": [
    {
     "name": "stdout",
     "output_type": "stream",
     "text": [
      "Tweet : RT @Atheist_Krishna: The effect of #Demonetization !!. https://t.co/A8of7zh2f5\n",
      "Hashtag: #Demonetization\n"
     ]
    }
   ],
   "source": [
    "text = \"RT @Atheist_Krishna: The effect of #Demonetization !!. https://t.co/A8of7zh2f5\"\n",
    "hashtag = re.search(r\"#\\w+\", text)\n",
    "print(\"Tweet :\", text)\n",
    "print(\"Hashtag:\", hashtag.group())"
   ]
  },
  {
   "cell_type": "code",
   "execution_count": null,
   "metadata": {},
   "outputs": [],
   "source": []
  }
 ],
 "metadata": {
  "kernelspec": {
   "display_name": "Python 3",
   "language": "python",
   "name": "python3"
  },
  "language_info": {
   "codemirror_mode": {
    "name": "ipython",
    "version": 3
   },
   "file_extension": ".py",
   "mimetype": "text/x-python",
   "name": "python",
   "nbconvert_exporter": "python",
   "pygments_lexer": "ipython3",
   "version": "3.7.1"
  }
 },
 "nbformat": 4,
 "nbformat_minor": 2
}
